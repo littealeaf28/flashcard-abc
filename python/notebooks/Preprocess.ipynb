{
 "cells": [
  {
   "cell_type": "code",
   "execution_count": null,
   "metadata": {},
   "outputs": [],
   "source": [
    "from bs4 import BeautifulSoup\n",
    "import requests"
   ]
  },
  {
   "cell_type": "code",
   "execution_count": 23,
   "metadata": {},
   "outputs": [],
   "source": [
    "# get words from website\n",
    "def get_list_words_flocabulary(url):\n",
    "    page = requests.get(url)\n",
    "    soup = BeautifulSoup(page.content, 'html.parser')\n",
    "    words = list(soup.find_all('tr')[0].get_text().split(\"\\r\\n\"))\n",
    "    return [word.lower().strip() for word in words if word not in {'\\r', '\\n', ''}]\n",
    "\n",
    "def get_list_words_greatschool(url):\n",
    "    page = requests.get(url)\n",
    "    soup = BeautifulSoup(page.content, 'html.parser')\n",
    "    nested = [item.get_text().split(' ') for item in soup.find_all('tr')]\n",
    "    return [item.lower().strip() for sublist in nested for item in sublist if item != '']"
   ]
  },
  {
   "cell_type": "code",
   "execution_count": 25,
   "metadata": {},
   "outputs": [],
   "source": [
    "flocabulary_urls = [\n",
    "    \"https://www.flocabulary.com/K-vocabulary-word-list/\",\n",
    "    \"https://www.flocabulary.com/1st-grade-vocabulary-word-list/\",\n",
    "    \"https://www.flocabulary.com/2nd-grade-vocabulary-word-list/\",\n",
    "    \"https://www.flocabulary.com/3rd-grade-vocabulary-word-list/\",\n",
    "    \"https://www.flocabulary.com/4th-grade-vocabulary-word-list/\",\n",
    "    \"https://www.flocabulary.com/5th-grade-vocabulary-word-list/\",\n",
    "    \"https://www.flocabulary.com/6th-grade-vocabulary-word-list/\",\n",
    "    \"https://www.flocabulary.com/7th-grade-vocabulary-word-list/\",\n",
    "    \"https://www.flocabulary.com/8th-grade-vocabulary-word-list/\"\n",
    "]\n",
    "\n",
    "greatschool_urls = [\n",
    "    \"https://www.greatschools.org/gk/articles/academic-vocabulary-words-for-fifth-graders/\",\n",
    "    \"https://www.greatschools.org/gk/articles/academic-vocabulary-words-for-sixth-graders/\",\n",
    "    \"https://www.greatschools.org/gk/articles/academic-vocabulary-words-for-seventh-graders/\",\n",
    "    \"https://www.greatschools.org/gk/articles/academic-vocabulary-words-for-eighth-graders/\",\n",
    "    \"https://www.greatschools.org/gk/articles/9th-grade-vocabulary-words/\",\n",
    "    \"https://www.greatschools.org/gk/articles/10th-grade-vocabulary-words/\",\n",
    "    \"https://www.greatschools.org/gk/articles/11th-grade-vocabulary-words/\",\n",
    "    \"https://www.greatschools.org/gk/articles/12th-grade-vocabulary-words/\",\n",
    "]"
   ]
  },
  {
   "cell_type": "code",
   "execution_count": 26,
   "metadata": {},
   "outputs": [
    {
     "name": "stdout",
     "output_type": "stream",
     "text": [
      "0: 113\n",
      "1: 158\n",
      "2: 139\n",
      "3: 141\n",
      "4: 138\n",
      "5: 138\n",
      "6: 208\n",
      "7: 208\n",
      "8: 208\n"
     ]
    }
   ],
   "source": [
    "#write to csv\n",
    "import csv\n",
    "for i, url in enumerate(flocabulary_urls):\n",
    "    words = get_list_words_flocabulary(url)\n",
    "    print(f\"{i}: {len(words)}\")\n",
    "    with open(f\"../data/english/flocabulary_{i}th_grade.csv\", 'w', newline='') as f:\n",
    "        wr = csv.writer(f, quoting=csv.QUOTE_ALL)\n",
    "        wr.writerow(words)"
   ]
  },
  {
   "cell_type": "code",
   "execution_count": 28,
   "metadata": {},
   "outputs": [
    {
     "name": "stdout",
     "output_type": "stream",
     "text": [
      "0: 75\n",
      "1: 75\n",
      "2: 102\n",
      "3: 100\n",
      "4: 99\n",
      "5: 99\n",
      "6: 102\n",
      "7: 102\n"
     ]
    }
   ],
   "source": [
    "import csv\n",
    "for i, url in enumerate(greatschool_urls):\n",
    "    words = get_list_words_greatschool(url)\n",
    "    print(f\"{i}: {len(words)}\")\n",
    "    with open(f\"../data/english/greatschool_{i+5}th_grade.csv\", 'w', newline='') as f:\n",
    "        wr = csv.writer(f, quoting=csv.QUOTE_ALL)\n",
    "        wr.writerow(words)"
   ]
  },
  {
   "cell_type": "code",
   "execution_count": 41,
   "metadata": {},
   "outputs": [],
   "source": [
    "import io\n",
    "import sys\n",
    "\n",
    "# get words from svl dataset (which contains non utf8 letters)\n",
    "def get_list_words_svl(filepath):\n",
    "    \"https://stackoverflow.com/questions/33677586/handling-non-utf8-characters-in-csv-in-python-3-vs-python-2\"\n",
    "    with io.open(filepath, encoding='utf8', newline='') as csvdata:\n",
    "        if sys.version_info[0] == 2:\n",
    "            csvdata = (line.encode('utf-8') for line in csvdata)\n",
    "        reader = csv.reader(csvdata)\n",
    "        if sys.version_info[0] == 2:\n",
    "            reader = ([x.decode('utf-8') for x in row] for row in reader)\n",
    "        arr = list(reader)\n",
    "        return [row[1].lower().strip() for row in arr]"
   ]
  },
  {
   "cell_type": "code",
   "execution_count": 46,
   "metadata": {},
   "outputs": [
    {
     "name": "stdout",
     "output_type": "stream",
     "text": [
      "1: 1000\n",
      "2: 1000\n",
      "3: 1000\n",
      "4: 1000\n",
      "5: 1000\n",
      "6: 1000\n",
      "7: 1000\n",
      "8: 1000\n",
      "9: 1000\n",
      "10: 1000\n",
      "11: 1000\n",
      "12: 1000\n"
     ]
    }
   ],
   "source": [
    "# write to csv\n",
    "import csv\n",
    "import os\n",
    "for i in range(1, 13):\n",
    "    dirname = \"../data/english/\"\n",
    "    filename = f\"level-{i:02d}.csv\"\n",
    "    words = get_list_words_svl(os.path.join(dirname, filename))\n",
    "    print(f\"{i}: {len(words)}\")\n",
    "    with open(os.path.join(dirname, f\"svl-processed-{filename}\"), 'w', newline='') as f:\n",
    "        wr = csv.writer(f, quoting=csv.QUOTE_ALL)\n",
    "        wr.writerow(words)"
   ]
  },
  {
   "cell_type": "code",
   "execution_count": null,
   "metadata": {},
   "outputs": [],
   "source": []
  }
 ],
 "metadata": {
  "kernelspec": {
   "display_name": "Python 3",
   "language": "python",
   "name": "python3"
  },
  "language_info": {
   "codemirror_mode": {
    "name": "ipython",
    "version": 3
   },
   "file_extension": ".py",
   "mimetype": "text/x-python",
   "name": "python",
   "nbconvert_exporter": "python",
   "pygments_lexer": "ipython3",
   "version": "3.7.4"
  }
 },
 "nbformat": 4,
 "nbformat_minor": 2
}
